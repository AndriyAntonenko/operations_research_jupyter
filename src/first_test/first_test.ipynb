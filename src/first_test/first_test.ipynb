{
 "cells": [
  {
   "cell_type": "code",
   "execution_count": 1,
   "metadata": {
    "pycharm": {
     "name": "#%%\n"
    }
   },
   "outputs": [],
   "source": [
    "from math import sqrt, fabs"
   ]
  },
  {
   "cell_type": "markdown",
   "metadata": {
    "collapsed": true,
    "pycharm": {
     "name": "#%% md\n"
    }
   },
   "source": [
    "#### Target function"
   ]
  },
  {
   "cell_type": "code",
   "execution_count": 2,
   "metadata": {
    "pycharm": {
     "name": "#%%\n"
    }
   },
   "outputs": [],
   "source": [
    "def first_target_function(x):\n",
    "    return x**2 - 4*x"
   ]
  },
  {
   "cell_type": "markdown",
   "metadata": {
    "pycharm": {
     "name": "#%% md\n"
    }
   },
   "source": [
    "#### Step and start point"
   ]
  },
  {
   "cell_type": "code",
   "execution_count": 3,
   "metadata": {
    "pycharm": {
     "name": "#%%\n"
    }
   },
   "outputs": [],
   "source": [
    "start_point = 3\n",
    "step_size = 0.1"
   ]
  },
  {
   "cell_type": "markdown",
   "metadata": {
    "pycharm": {
     "name": "#%% md\n"
    }
   },
   "source": [
    "#### Sven's method"
   ]
  },
  {
   "cell_type": "code",
   "execution_count": 4,
   "metadata": {
    "pycharm": {
     "name": "#%%\n"
    }
   },
   "outputs": [
    {
     "data": {
      "text/plain": "(1.4999999999999998, 2.3)"
     },
     "execution_count": 4,
     "metadata": {},
     "output_type": "execute_result"
    }
   ],
   "source": [
    "def get_sign(f, x, step):\n",
    "    left_shift_value = f(x - fabs(step))\n",
    "    current_value = f(x)\n",
    "    right_shift_value = f(x + fabs(step))\n",
    "\n",
    "    if left_shift_value >= current_value >= right_shift_value:\n",
    "        return 1\n",
    "    if left_shift_value <= current_value <= right_shift_value:\n",
    "        return -1\n",
    "    if left_shift_value >= current_value <= right_shift_value:\n",
    "        return 0\n",
    "    else:\n",
    "        raise Exception(\"Function isn't unimodal\")\n",
    "\n",
    "\n",
    "def sven_method(f, x0, step):\n",
    "    x_current = x0\n",
    "    sign = get_sign(f, x_current, step)\n",
    "    x_next = x_current + sign * step\n",
    "    counter = 1\n",
    "\n",
    "    while True:\n",
    "        if sign == 0:\n",
    "            return x_current, x_next\n",
    "        if f(x_next) > f(x_current):\n",
    "            return (x_next, x_current) if x_next < x_current else (x_current, x_next)\n",
    "\n",
    "        x_current = x_next\n",
    "        sign = get_sign(f, x_current, step)\n",
    "        x_next = x_current + 2**counter * sign * step\n",
    "        counter += 1\n",
    "\n",
    "\n",
    "a, b = sven_method(first_target_function, start_point, step_size)\n",
    "(a, b)"
   ]
  },
  {
   "cell_type": "markdown",
   "metadata": {
    "pycharm": {
     "name": "#%% md\n"
    }
   },
   "source": [
    "#### Accuracy for dichotomy method and golden section"
   ]
  },
  {
   "cell_type": "code",
   "execution_count": 5,
   "metadata": {
    "pycharm": {
     "name": "#%%\n"
    }
   },
   "outputs": [],
   "source": [
    "dichotomy_accuracy = 0.2\n",
    "golden_section_accuracy = 0.01"
   ]
  },
  {
   "cell_type": "markdown",
   "metadata": {
    "pycharm": {
     "name": "#%% md\n"
    }
   },
   "source": [
    "#### Dichotomy method"
   ]
  },
  {
   "cell_type": "code",
   "execution_count": 6,
   "metadata": {
    "pycharm": {
     "name": "#%%\n"
    }
   },
   "outputs": [
    {
     "data": {
      "text/plain": "1.9999999999999998"
     },
     "execution_count": 6,
     "metadata": {},
     "output_type": "execute_result"
    }
   ],
   "source": [
    "def dichotomy_method(f, start, end, epsilon):\n",
    "    length = end - start\n",
    "    if fabs(length) < epsilon:\n",
    "        return (end + start) / 2\n",
    "\n",
    "    xm = (start + end) / 2\n",
    "    x1 = start + length / 4\n",
    "    x2 = end - length / 4\n",
    "\n",
    "    if f(x1) < f(xm):\n",
    "        return dichotomy_method(f, start, xm, epsilon)\n",
    "\n",
    "    if f(x2) < f(xm):\n",
    "        return dichotomy_method(f, xm, end, epsilon)\n",
    "\n",
    "    if f(x1) > f(xm):\n",
    "        return dichotomy_method(f, x1, x2, epsilon)\n",
    "\n",
    "\n",
    "dichotomy_method(first_target_function, a, b, dichotomy_accuracy)"
   ]
  },
  {
   "cell_type": "markdown",
   "metadata": {
    "pycharm": {
     "name": "#%% md\n"
    }
   },
   "source": [
    "#### Golden Section"
   ]
  },
  {
   "cell_type": "code",
   "execution_count": 7,
   "metadata": {
    "pycharm": {
     "name": "#%%\n"
    }
   },
   "outputs": [
    {
     "data": {
      "text/plain": "2.001699437494742"
     },
     "execution_count": 7,
     "metadata": {},
     "output_type": "execute_result"
    }
   ],
   "source": [
    "\n",
    "def golden_section(f, start, end, epsilon):\n",
    "    golden_section_phi = (1 + sqrt(5)) / 2\n",
    "    res_phi = 2 - golden_section_phi\n",
    "\n",
    "    _start = start\n",
    "    _end = end\n",
    "\n",
    "    x1 = _start + res_phi * (_end - _start)\n",
    "    x2 = _end - res_phi * (_end - _start)\n",
    "\n",
    "    while True:\n",
    "        if f(x1) < f(x2):\n",
    "            _end = x2\n",
    "            x2 = x1\n",
    "            x1 = _start + res_phi * (_end - _start)\n",
    "        else:\n",
    "            _start = x1\n",
    "            x1 = x2\n",
    "            x2 = _end - res_phi * (_end - _start)\n",
    "\n",
    "        if fabs(_end - _start) <= epsilon:\n",
    "            break\n",
    "\n",
    "    return (x1 + x2) / 2\n",
    "\n",
    "\n",
    "golden_section(first_target_function, a, b, golden_section_accuracy)"
   ]
  },
  {
   "cell_type": "markdown",
   "metadata": {},
   "source": [
    "#### DSC-Powell's method"
   ]
  },
  {
   "cell_type": "code",
   "execution_count": 8,
   "metadata": {
    "pycharm": {
     "name": "#%%\n"
    }
   },
   "outputs": [
    {
     "data": {
      "text/plain": "1.9999999999999998"
     },
     "execution_count": 8,
     "metadata": {},
     "output_type": "execute_result"
    }
   ],
   "source": [
    "powell_start_point = 0\n",
    "powell_step_size = 0.1\n",
    "powell_accuracy = 0.01\n",
    "\n",
    "\n",
    "def dsc_method(f, start, step):\n",
    "    interval_start, interval_end = sven_method(f, start, step)\n",
    "    x1 = interval_start\n",
    "    x2 = (fabs(interval_end) + fabs(interval_start)) / 2\n",
    "    x3 = interval_end\n",
    "\n",
    "    xs = x2 + ((x3 - x2) * (f(x1) - f(x3))) / (2 * (f(x1) - 2*f(x2) + f(x3)))\n",
    "    return interval_start, interval_end, (interval_start + interval_end) / 2, xs\n",
    "\n",
    "\n",
    "def dsc_powell(f, start, step, epsilon):\n",
    "    interval_start, interval_end, x_min, xs = dsc_method(f, start, step)\n",
    "\n",
    "    while fabs(x_min - xs) >= epsilon and fabs(f(x_min) - f(xs)) >= epsilon:\n",
    "        if xs < x_min:\n",
    "            interval_end = x_min\n",
    "            x_min = xs\n",
    "        elif xs > x_min:\n",
    "            interval_start = x_min\n",
    "            x_min = xs\n",
    "        else:\n",
    "            break\n",
    "\n",
    "        f_arr = [f(interval_start), f(x_min), f(interval_end)]\n",
    "        a1 = (f_arr[1] - f_arr[0]) / (x_min - a)\n",
    "        a2 = ((f_arr[2] - f_arr[0]) / (interval_end - interval_start) - a1) / (interval_end - x_min)\n",
    "\n",
    "        xs = (interval_start + x_min) / 2 - a1 / (2 * a2)\n",
    "\n",
    "        f_min = min(f_arr)\n",
    "        if f_arr[0] == f_min:\n",
    "            x_min = interval_start\n",
    "        elif f_arr[1] == f_min:\n",
    "            x_min = x_min\n",
    "        else:\n",
    "            x_min = interval_end\n",
    "\n",
    "    return x_min\n",
    "\n",
    "\n",
    "dsc_powell(first_target_function, powell_start_point, powell_step_size, powell_accuracy)"
   ]
  },
  {
   "cell_type": "markdown",
   "metadata": {
    "pycharm": {
     "name": "#%% md\n"
    }
   },
   "source": [
    "#### Newton-Rafson"
   ]
  },
  {
   "cell_type": "code",
   "execution_count": 9,
   "metadata": {
    "pycharm": {
     "name": "#%%\n"
    }
   },
   "outputs": [
    {
     "data": {
      "text/plain": "-1.5862336671679858"
     },
     "execution_count": 9,
     "metadata": {},
     "output_type": "execute_result"
    }
   ],
   "source": [
    "nr_start_point = 0.1\n",
    "nr_accuracy = 0.01\n",
    "\n",
    "\n",
    "def second_target_function(x):\n",
    "    return x**2 + 4/x\n",
    "\n",
    "\n",
    "def second_derivative_target_function(x):\n",
    "    return 2*x - 4 / x**2\n",
    "\n",
    "\n",
    "def newton_rafson(f, df, x0, epsilon):\n",
    "    point = x0\n",
    "    delta = fabs(0 - f(point))\n",
    "\n",
    "    while delta > epsilon:\n",
    "        point = point - f(point) / df(point)\n",
    "        delta = fabs(0 - f(point))\n",
    "\n",
    "    return point\n",
    "\n",
    "\n",
    "newton_rafson(second_target_function, second_derivative_target_function, nr_start_point, nr_accuracy)"
   ]
  },
  {
   "cell_type": "markdown",
   "metadata": {
    "pycharm": {
     "name": "#%% md\n"
    }
   },
   "source": [
    "#### Method of Bolzano"
   ]
  },
  {
   "cell_type": "code",
   "execution_count": 10,
   "metadata": {
    "pycharm": {
     "name": "#%%\n"
    }
   },
   "outputs": [
    {
     "data": {
      "text/plain": "1.2615234375"
     },
     "execution_count": 10,
     "metadata": {},
     "output_type": "execute_result"
    }
   ],
   "source": [
    "bolzano_x1 = 0.1\n",
    "bolzano_x2 = 2.0\n",
    "bolzano_accuracy = 0.01\n",
    "\n",
    "\n",
    "def bolzano_method(df, x1, x2, epsilon):\n",
    "    _start = x1\n",
    "    _end = x2\n",
    "    middle = (_start + _end) / 2\n",
    "\n",
    "    while fabs(_end - _start) > epsilon:\n",
    "        if df(middle) < 0:\n",
    "            _start = middle\n",
    "        else:\n",
    "            _end = middle\n",
    "\n",
    "        middle = (_start + _end) / 2\n",
    "\n",
    "    return middle\n",
    "\n",
    "\n",
    "bolzano_method(second_derivative_target_function, bolzano_x1, bolzano_x2, bolzano_accuracy)"
   ]
  },
  {
   "cell_type": "markdown",
   "metadata": {
    "pycharm": {
     "name": "#%% md\n"
    }
   },
   "source": [
    "#### Chord's method"
   ]
  },
  {
   "cell_type": "code",
   "execution_count": 11,
   "metadata": {
    "pycharm": {
     "name": "#%%\n"
    }
   },
   "outputs": [
    {
     "data": {
      "text/plain": "-1.5874010519712742"
     },
     "execution_count": 11,
     "metadata": {},
     "output_type": "execute_result"
    }
   ],
   "source": [
    "chords_x1 = 0.1\n",
    "chords_x2 = 2.0\n",
    "chords_accuracy = 0.01\n",
    "\n",
    "\n",
    "def chord_method(f, df, start, end, epsilon):\n",
    "    x0 = (start + end) / 2\n",
    "    xn = f(x0)\n",
    "    xn1 = xn - f(xn) / df(xn)\n",
    "    while fabs(xn1 - xn) > epsilon:\n",
    "        xn = xn1\n",
    "        xn1 = xn - f(xn) / df(xn)\n",
    "    return xn1\n",
    "\n",
    "\n",
    "chord_method(second_target_function, second_derivative_target_function, chords_x1, chords_x2, chords_accuracy)"
   ]
  }
 ],
 "metadata": {
  "kernelspec": {
   "display_name": "Python 3",
   "language": "python",
   "name": "python3"
  },
  "language_info": {
   "codemirror_mode": {
    "name": "ipython",
    "version": 3
   },
   "file_extension": ".py",
   "mimetype": "text/x-python",
   "name": "python",
   "nbconvert_exporter": "python",
   "pygments_lexer": "ipython3",
   "version": "3.7.3"
  }
 },
 "nbformat": 4,
 "nbformat_minor": 1
}