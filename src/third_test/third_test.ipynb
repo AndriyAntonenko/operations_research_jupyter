{
 "cells": [
  {
   "cell_type": "code",
   "execution_count": 76,
   "metadata": {
    "pycharm": {
     "name": "#%%\n"
    }
   },
   "outputs": [],
   "source": [
    "import numpy as np"
   ]
  },
  {
   "cell_type": "markdown",
   "metadata": {
    "collapsed": true,
    "pycharm": {
     "name": "#%% md\n"
    }
   },
   "source": [
    "### Input data"
   ]
  },
  {
   "cell_type": "code",
   "execution_count": 77,
   "metadata": {
    "pycharm": {
     "name": "#%%\n"
    }
   },
   "outputs": [],
   "source": [
    "start_point = [5.2, 5.2]\n",
    "lambda_step = 1\n",
    "hesse_matrix = [[4, 1], [1, 12]]\n",
    "\n",
    "\n",
    "def target_function(x1, x2):\n",
    "    return 2*(x1 - 1)**2 + x1*x2 + 6*x2**2\n",
    "\n",
    "\n",
    "def target_function_dx1(x1, x2):\n",
    "    return 4*x1 + x2 - 4\n",
    "\n",
    "\n",
    "def target_function_dx2(x1, x2):\n",
    "    return x1 + 12*x2\n"
   ]
  },
  {
   "cell_type": "markdown",
   "metadata": {
    "pycharm": {
     "name": "#%% md\n"
    }
   },
   "source": [
    "### Helper functions"
   ]
  },
  {
   "cell_type": "code",
   "execution_count": 78,
   "metadata": {
    "pycharm": {
     "name": "#%%\n"
    }
   },
   "outputs": [],
   "source": [
    "def vector_sum(v1, v2):\n",
    "    res = v1.copy()\n",
    "    for i in range(len(res)):\n",
    "        res[i] += v2[i]\n",
    "    return res\n",
    "\n",
    "\n",
    "def multiply_vector(v, number):\n",
    "    res = v.copy()\n",
    "    for i in range(len(v)):\n",
    "        res[i] *= number\n",
    "    return res\n",
    "\n",
    "\n",
    "def print_points(points):\n",
    "    for i in range(len(points)):\n",
    "        point = \"(\"\n",
    "        for j in range(len(points[i])):\n",
    "            point += str(points[i][j])\n",
    "            if j != len(points[i]) - 1:\n",
    "                point += \" ; \"\n",
    "        point += \")\"\n",
    "        print(\"X\", i + 1, \" = \", point)"
   ]
  },
  {
   "cell_type": "markdown",
   "metadata": {
    "pycharm": {
     "name": "#%% md\n"
    }
   },
   "source": [
    "### Shortest descent method"
   ]
  },
  {
   "cell_type": "code",
   "execution_count": 79,
   "metadata": {
    "pycharm": {
     "name": "#%%\n"
    }
   },
   "outputs": [],
   "source": [
    "def calculate_s(point, gradient):\n",
    "    gradient_values = []\n",
    "    for i in range(len(gradient)):\n",
    "        gradient_values.append(gradient[i](*point))\n",
    "\n",
    "    gradient_module = np.linalg.norm(np.array(gradient_values))\n",
    "    vector_s = []\n",
    "\n",
    "    for i in range(len(gradient_values)):\n",
    "        vector_s.append(-1*gradient_values[i]/gradient_module)\n",
    "\n",
    "    return vector_s, gradient_values\n",
    "\n",
    "\n",
    "def calculate_optimal_step(s_vector, gradient_values, hesse):\n",
    "    s = np.array(s_vector)\n",
    "    g = np.array(gradient_values)\n",
    "    h = np.array(hesse)\n",
    "\n",
    "    a = g.transpose().dot(s)\n",
    "    b = s.transpose().dot(h).dot(s)\n",
    "\n",
    "    return -1 * a / b\n",
    "\n",
    "\n",
    "def shortest_descent(x0, analytical_gradient, iterations=3, default_step=1, hesse=[]):\n",
    "    point = x0\n",
    "    res = []\n",
    "    for i in range(iterations):\n",
    "        vector_s, gradient_values = calculate_s(point, analytical_gradient)\n",
    "        if default_step:\n",
    "            step = default_step\n",
    "        else:\n",
    "            step = calculate_optimal_step(vector_s, gradient_values, hesse)\n",
    "        point = vector_sum(point, multiply_vector(vector_s, step))\n",
    "        res.append(point)\n",
    "    return res"
   ]
  },
  {
   "cell_type": "markdown",
   "metadata": {
    "pycharm": {
     "name": "#%% md\n"
    }
   },
   "source": [
    "### Shortest descent method without optimal step"
   ]
  },
  {
   "cell_type": "code",
   "execution_count": 80,
   "metadata": {
    "pycharm": {
     "name": "#%%\n"
    }
   },
   "outputs": [
    {
     "name": "stdout",
     "output_type": "stream",
     "text": [
      "X 1  =  (4.890532266671866 ; 4.249090055773552)\n",
      "X 2  =  (4.556377564731074 ; 3.306571814480122)\n",
      "X 3  =  (4.187923979668806 ; 2.376925669081367)\n"
     ]
    }
   ],
   "source": [
    "shortest_descent_points = shortest_descent(start_point, [target_function_dx1, target_function_dx2], 3, lambda_step)\n",
    "print_points(shortest_descent_points)"
   ]
  },
  {
   "cell_type": "markdown",
   "metadata": {
    "pycharm": {
     "name": "#%% md\n"
    }
   },
   "source": [
    "### Shortest descent method with optimal step"
   ]
  },
  {
   "cell_type": "code",
   "execution_count": 81,
   "metadata": {
    "pycharm": {
     "name": "#%%\n"
    }
   },
   "outputs": [
    {
     "name": "stdout",
     "output_type": "stream",
     "text": [
      "X 1  =  (3.3391241008831836 ; -0.5179641263771284)\n",
      "X 2  =  (1.223433174452481 ; 0.17057434080446132)\n",
      "X 3  =  (1.1334084782062126 ; -0.10604699857043537)\n"
     ]
    }
   ],
   "source": [
    "shortest_descent_points = shortest_descent(start_point, [target_function_dx1, target_function_dx2], 3, None, hesse_matrix)\n",
    "print_points(shortest_descent_points)"
   ]
  },
  {
   "cell_type": "markdown",
   "metadata": {
    "pycharm": {
     "name": "#%% md\n"
    }
   },
   "source": [
    "### Partan's method"
   ]
  },
  {
   "cell_type": "code",
   "execution_count": 82,
   "metadata": {
    "pycharm": {
     "name": "#%%\n"
    }
   },
   "outputs": [
    {
     "name": "stdout",
     "output_type": "stream",
     "text": [
      "X 1  =  (3.3391241008831836 ; -0.5179641263771284)\n",
      "X 2  =  (1.223433174452481 ; 0.17057434080446132)\n",
      "X 3  =  (1.021276595744681 ; -0.08510638297872347)\n"
     ]
    }
   ],
   "source": [
    "def shortest_descent_partan(x0, analytical_gradient, hesse=[], iterations=3):\n",
    "    point = x0\n",
    "    res = []\n",
    "    for i in range(iterations):\n",
    "        vector_s, gradient_values = calculate_s(point, analytical_gradient)\n",
    "        if i >= 2:\n",
    "            vector_s = np.subtract(np.array(res[len(res) - 1]), np.array(x0))\n",
    "        step = calculate_optimal_step(vector_s, gradient_values, hesse)\n",
    "        point = vector_sum(point, multiply_vector(vector_s, step))\n",
    "        res.append(point)\n",
    "    return res\n",
    "\n",
    "\n",
    "shortest_descent_points = shortest_descent_partan(start_point, [target_function_dx1, target_function_dx2], hesse_matrix, 3)\n",
    "print_points(shortest_descent_points)"
   ]
  },
  {
   "cell_type": "markdown",
   "metadata": {
    "pycharm": {
     "name": "#%% md\n"
    }
   },
   "source": [
    "### Newton's method"
   ]
  },
  {
   "cell_type": "code",
   "execution_count": 83,
   "metadata": {
    "pycharm": {
     "name": "#%%\n"
    }
   },
   "outputs": [
    {
     "name": "stdout",
     "output_type": "stream",
     "text": [
      "X 1  =  (5.2 ; 5.2)\n",
      "X 2  =  (1.0212765957446814 ; -0.08510638297872308)\n",
      "X 3  =  (1.0212765957446808 ; -0.0851063829787234)\n",
      "X 4  =  (1.021276595744681 ; -0.08510638297872342)\n"
     ]
    }
   ],
   "source": [
    "def newton_method(x0, analytical_gradient, hesse, iterations = 3):\n",
    "    point = x0\n",
    "    res = [point]\n",
    "    inv_hesse = np.linalg.inv(np.array(hesse))\n",
    "    for i in range(iterations):\n",
    "        gradient_values = []\n",
    "        for j in range(len(analytical_gradient)):\n",
    "            gradient_values.append(analytical_gradient[j](*point))\n",
    "        gradient_values = np.array(gradient_values)\n",
    "        point = np.subtract(np.array(point), inv_hesse.dot(gradient_values))\n",
    "        res.append(point)\n",
    "    return res\n",
    "\n",
    "\n",
    "newton_points = newton_method(start_point, [target_function_dx1, target_function_dx2], hesse_matrix, 3)\n",
    "print_points(newton_points)"
   ]
  }
 ],
 "metadata": {
  "kernelspec": {
   "display_name": "PyCharm (third_test)",
   "language": "python",
   "name": "pycharm-58df4b6d"
  },
  "language_info": {
   "codemirror_mode": {
    "name": "ipython",
    "version": 3
   },
   "file_extension": ".py",
   "mimetype": "text/x-python",
   "name": "python",
   "nbconvert_exporter": "python",
   "pygments_lexer": "ipython3",
   "version": "3.6.8"
  }
 },
 "nbformat": 4,
 "nbformat_minor": 1
}