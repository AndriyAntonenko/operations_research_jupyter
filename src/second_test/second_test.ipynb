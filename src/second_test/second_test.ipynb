{
 "cells": [
  {
   "cell_type": "code",
   "execution_count": 195,
   "metadata": {
    "pycharm": {
     "name": "#%%\n"
    }
   },
   "outputs": [],
   "source": [
    "from math import sqrt\n",
    "from numpy import std\n",
    "from sympy import Float, init_printing, Array, relational, symbols\n",
    "init_printing()"
   ]
  },
  {
   "cell_type": "markdown",
   "metadata": {
    "pycharm": {
     "name": "#%% md\n"
    }
   },
   "source": [
    "### Input data"
   ]
  },
  {
   "cell_type": "code",
   "execution_count": 196,
   "metadata": {},
   "outputs": [],
   "source": [
    "# Input data for Hook-Jeeves' method task\n",
    "\n",
    "hook_jeeves_accuracy = 0.01\n",
    "hook_jeeves_step_increment = 2\n",
    "hook_jeeves_x_start_vector = [8, 6]\n",
    "hook_jeeves_delta_x_start_vector = [0.6, 0.8]\n",
    "\n",
    "\n",
    "def hook_jeeves_target_function(x1, x2):\n",
    "    return (x1 - 4)**2 +2*x2**2\n",
    "\n",
    "\n",
    "# Input data for Nelder-Mead's method task\n",
    "\n",
    "nelder_mead_start = [[6, 5], [8, 7], [6, 7]]\n",
    "nelder_mead_accuracy = 0.001\n",
    "\n",
    "\n",
    "def nelder_mead_target_function(x1, x2):\n",
    "    return 2*(x1 - 3)**2 + (x2 - 4)**2\n"
   ]
  },
  {
   "cell_type": "markdown",
   "metadata": {
    "collapsed": true,
    "pycharm": {
     "name": "#%% md\n"
    }
   },
   "source": [
    "### Hook-Jeeves's methods\n"
   ]
  },
  {
   "cell_type": "code",
   "execution_count": 197,
   "metadata": {
    "pycharm": {
     "name": "#%%\n"
    }
   },
   "outputs": [],
   "source": [
    "def vector_abs(vector):\n",
    "    result= 0\n",
    "    for v in vector:\n",
    "        result += v**2\n",
    "    return sqrt(result)\n",
    "\n",
    "\n",
    "def increment_vector(vector, index, increment):\n",
    "    new_vector = vector.copy()\n",
    "    new_vector[index] += increment\n",
    "    return new_vector\n",
    "\n",
    "\n",
    "def research(f, vector, delta_vector):\n",
    "    v = vector\n",
    "    deltas = delta_vector\n",
    "    min_f = f(*v)\n",
    "    success = False\n",
    "    \n",
    "    for i in range(len(deltas)):\n",
    "        incremented_vector = increment_vector(v, i, deltas[i])\n",
    "        f_incremented_value = f(*incremented_vector)\n",
    "        \n",
    "        if f_incremented_value < min_f:\n",
    "            v = incremented_vector\n",
    "            min_f = f_incremented_value\n",
    "            success = True\n",
    "        else:\n",
    "            incremented_vector = increment_vector(v, i, -1 * deltas[i])\n",
    "            f_incremented_value = f(*incremented_vector)\n",
    "            if f_incremented_value < min_f:\n",
    "                v = incremented_vector\n",
    "                min_f = f_incremented_value\n",
    "                success = True\n",
    "                \n",
    "    return v, min_f, success\n",
    "\n",
    "\n",
    "def hook_jeeves_method(f, start_vector, delta_vector, increment, epsilon):\n",
    "    vector = start_vector\n",
    "    n = len(vector)\n",
    "    delta = delta_vector\n",
    "    f_value = f(*vector)\n",
    "    \n",
    "    while True:\n",
    "        new_vector, new_min, success_research = research(f, vector, delta)\n",
    "        if success_research:\n",
    "            tmp_basis = []\n",
    "            for i in range(n):\n",
    "                tmp_basis.append(new_vector[i]*2 - vector[i])\n",
    "\n",
    "            new_basis, new_basis_min, success = research(f, tmp_basis, delta)\n",
    "\n",
    "            if new_basis_min < new_min:\n",
    "                vector = new_basis\n",
    "                f_value = new_basis_min\n",
    "            else:\n",
    "                vector = new_vector\n",
    "                f_value = new_min\n",
    "        else:\n",
    "            if abs(vector_abs(delta)) < epsilon:\n",
    "                break\n",
    "            for i in range(n):\n",
    "                delta[i] = delta[i] / increment\n",
    "\n",
    "    return f_value, vector\n",
    "\n",
    "\n",
    "target_function_min, vector_min = \\\n",
    "    hook_jeeves_method(\n",
    "        hook_jeeves_target_function,\n",
    "        hook_jeeves_x_start_vector,\n",
    "        hook_jeeves_delta_x_start_vector,\n",
    "        hook_jeeves_step_increment,\n",
    "        hook_jeeves_accuracy)\n",
    "\n",
    "x1_symbol, x2_symbol, f_min = symbols('x_1 x_2 f_min')"
   ]
  },
  {
   "cell_type": "markdown",
   "source": [
    "##### Min value for Hook-Jeeves' method task"
   ],
   "metadata": {
    "collapsed": false,
    "pycharm": {
     "name": "#%% md\n"
    }
   }
  },
  {
   "cell_type": "code",
   "execution_count": 198,
   "metadata": {
    "pycharm": {
     "name": "#%%\n"
    }
   },
   "outputs": [
    {
     "data": {
      "text/plain": "fₘᵢₙ = 2.4414e-6",
      "text/latex": "$\\displaystyle f_{min} = 2.4414 \\cdot 10^{-6}$"
     },
     "execution_count": 198,
     "metadata": {},
     "output_type": "execute_result"
    }
   ],
   "source": [
    "relational.Eq(f_min, Float(str(target_function_min), 5))"
   ]
  },
  {
   "cell_type": "markdown",
   "source": [
    "##### Min value coords for Hook-Jeeves' method task"
   ],
   "metadata": {
    "collapsed": false
   }
  },
  {
   "cell_type": "code",
   "execution_count": 199,
   "metadata": {
    "pycharm": {
     "name": "#%%\n"
    }
   },
   "outputs": [
    {
     "data": {
      "text/plain": "x₁ = 4.0016",
      "text/latex": "$\\displaystyle x_{1} = 4.0016$"
     },
     "execution_count": 199,
     "metadata": {},
     "output_type": "execute_result"
    }
   ],
   "source": [
    "relational.Eq(x1_symbol, Float(str(vector_min[0]), 5))"
   ]
  },
  {
   "cell_type": "code",
   "execution_count": 200,
   "metadata": {
    "pycharm": {
     "name": "#%%\n"
    }
   },
   "outputs": [
    {
     "data": {
      "text/plain": "x₂ = 7.7716e-16",
      "text/latex": "$\\displaystyle x_{2} = 7.7716 \\cdot 10^{-16}$"
     },
     "execution_count": 200,
     "metadata": {},
     "output_type": "execute_result"
    }
   ],
   "source": [
    "relational.Eq(x2_symbol, Float(str(vector_min[1]), 5))"
   ]
  },
  {
   "cell_type": "markdown",
   "metadata": {
    "pycharm": {
     "name": "#%% md\n"
    }
   },
   "source": [
    "### Nelder-Mead's method"
   ]
  },
  {
   "cell_type": "code",
   "execution_count": 201,
   "metadata": {
    "pycharm": {
     "name": "#%%\n"
    }
   },
   "outputs": [],
   "source": [
    "def sort_func(f):\n",
    "    return lambda vector : f(*vector)\n",
    "\n",
    "\n",
    "def find_mid(points):\n",
    "    mid = points[0].copy()\n",
    "    n = len(points) - 1\n",
    "    for i in range(1, n):\n",
    "        mid = vector_sum(points[i].copy(), mid)\n",
    "\n",
    "    return multiply_vector(mid, 1 / n)\n",
    "\n",
    "\n",
    "def multiply_vector(vector, number):\n",
    "    res = vector.copy()\n",
    "    for i in range(len(res)):\n",
    "        res[i] *= number\n",
    "    return res\n",
    "\n",
    "\n",
    "def vector_sub(v1, v2):\n",
    "    res = v1.copy()\n",
    "    for i in range(len(res)):\n",
    "        res[i] -= v2[i]\n",
    "    return res\n",
    "\n",
    "\n",
    "def vector_sum(v1, v2):\n",
    "    res = v1.copy()\n",
    "    for i in range(len(res)):\n",
    "        res[i] += v2[i]\n",
    "    return res\n",
    "\n",
    "def check_convergence(f, points, epsilon):\n",
    "    f_values = []\n",
    "    for i in range(len(points)):\n",
    "        f_values.append(f(*points[i]))\n",
    "    f_std = std(f_values) # standard deviation\n",
    "    return f_std < epsilon\n",
    "\n",
    "\n",
    "def nelder_mead(f, start_points, epsilon, alpha=1, beta=0.5, gamma=2):\n",
    "    points = start_points.copy()\n",
    "\n",
    "    while True:\n",
    "        points = sorted(points, key=sort_func(f))\n",
    "\n",
    "        xh = points[len(points) - 1].copy()\n",
    "        fh = f(*xh)\n",
    "        xg = points[len(points) - 2].copy()\n",
    "        fg = f(*xg)\n",
    "        xl = points[0].copy()\n",
    "        fl = f(*xl)\n",
    "\n",
    "        mid = find_mid(points)\n",
    "\n",
    "        xr = vector_sub(multiply_vector(mid, (1 + alpha)), multiply_vector(xh, alpha))\n",
    "        fr = f(*xr)\n",
    "\n",
    "        if fr < fl:\n",
    "            xe = vector_sum(multiply_vector(xr, gamma), multiply_vector(mid, 1 - gamma))\n",
    "            fe = f(*xe)\n",
    "            xh = xe if fe < fl else xr\n",
    "        elif fg > fr > fl:\n",
    "            xh = xr\n",
    "        elif fr > fg:\n",
    "            if fr < fh:\n",
    "                xh = xr\n",
    "                fh = fr\n",
    "\n",
    "            xc = vector_sum(multiply_vector(xh, beta), multiply_vector(mid, 1 - beta))\n",
    "            fc = f(*xc)\n",
    "\n",
    "            if fc < fh:\n",
    "                xh = xc\n",
    "            else:\n",
    "                for j in range(len(points)):\n",
    "                    points[j] = multiply_vector(vector_sum(xl, points[j]), 0.5)\n",
    "                continue\n",
    "        points[0] = xl\n",
    "        points[len(points) - 1] = xh\n",
    "\n",
    "        if check_convergence(f, points, epsilon):\n",
    "            points = sorted(points, key=sort_func(f))\n",
    "            break\n",
    "\n",
    "    return points, f(*points[0])\n",
    "\n",
    "\n",
    "final_simplex, nelder_min_f = nelder_mead(nelder_mead_target_function, nelder_mead_start, nelder_mead_accuracy)"
   ]
  },
  {
   "cell_type": "markdown",
   "metadata": {
    "pycharm": {
     "name": "#%% md\n"
    }
   },
   "source": [
    "##### Min point for Nelder-Mead"
   ]
  },
  {
   "cell_type": "code",
   "execution_count": 202,
   "metadata": {
    "pycharm": {
     "name": "#%%\n"
    }
   },
   "outputs": [
    {
     "data": {
      "text/plain": "xₘᵢₙ = [3.00661134719849  3.97772121429443]",
      "text/latex": "$\\displaystyle x_{min} = \\left[\\begin{matrix}3.00661134719849 & 3.97772121429443\\end{matrix}\\right]$"
     },
     "execution_count": 202,
     "metadata": {},
     "output_type": "execute_result"
    }
   ],
   "source": [
    "x_min = symbols('x_min')\n",
    "relational.Eq(x_min, Array(final_simplex[0]))"
   ]
  },
  {
   "cell_type": "markdown",
   "metadata": {
    "pycharm": {
     "name": "#%% md\n"
    }
   },
   "source": [
    "##### Min value for Nelder-Mead"
   ]
  },
  {
   "cell_type": "code",
   "execution_count": 203,
   "metadata": {
    "pycharm": {
     "name": "#%%\n"
    }
   },
   "outputs": [
    {
     "data": {
      "text/plain": "fₘᵢₙ = 0.00058376",
      "text/latex": "$\\displaystyle f_{min} = 0.00058376$"
     },
     "execution_count": 203,
     "metadata": {},
     "output_type": "execute_result"
    }
   ],
   "source": [
    "relational.Eq(f_min, Float(str(nelder_min_f), 5))"
   ]
  }
 ],
 "metadata": {
  "kernelspec": {
   "display_name": "Python 3",
   "language": "python",
   "name": "python3"
  },
  "language_info": {
   "codemirror_mode": {
    "name": "ipython",
    "version": 3
   },
   "file_extension": ".py",
   "mimetype": "text/x-python",
   "name": "python",
   "nbconvert_exporter": "python",
   "pygments_lexer": "ipython3",
   "version": "3.6.8"
  }
 },
 "nbformat": 4,
 "nbformat_minor": 1
}